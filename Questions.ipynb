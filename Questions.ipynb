{
 "cells": [
  {
   "cell_type": "markdown",
   "metadata": {},
   "source": [
    "## Question 1:"
   ]
  },
  {
   "cell_type": "code",
   "execution_count": 13,
   "metadata": {},
   "outputs": [
    {
     "name": "stdout",
     "output_type": "stream",
     "text": [
      "False\n"
     ]
    }
   ],
   "source": [
    "list_search = [2,4,5,6,7,8,9,10,12,13,14]\n",
    "def search(num):\n",
    "    begin_index = 0\n",
    "    end_index = len(list_search) - 1\n",
    "\n",
    "    while begin_index <= end_index:\n",
    "        midpoint = begin_index + (end_index - begin_index) // 2\n",
    "        midpoint_value = list_search[midpoint]\n",
    "        if midpoint_value == num:\n",
    "            return True\n",
    "\n",
    "        elif num < midpoint_value:\n",
    "            end_index = midpoint - 1\n",
    "\n",
    "        else:\n",
    "            begin_index = midpoint + 1\n",
    "\n",
    "        return False\n",
    "\n",
    "\n",
    "\n",
    "\n",
    "print(search(4))\n",
    "print(search(3))"
   ]
  },
  {
   "cell_type": "markdown",
   "metadata": {},
   "source": [
    "## Question 2:"
   ]
  },
  {
   "cell_type": "code",
   "execution_count": 14,
   "metadata": {},
   "outputs": [
    {
     "name": "stdout",
     "output_type": "stream",
     "text": [
      "125\n"
     ]
    }
   ],
   "source": [
    "def power(n,p):\n",
    "    return n**p\n",
    "\n",
    "print(power(5,3))"
   ]
  },
  {
   "cell_type": "markdown",
   "metadata": {},
   "source": [
    "## Question 3:"
   ]
  },
  {
   "cell_type": "code",
   "execution_count": 17,
   "metadata": {},
   "outputs": [
    {
     "name": "stdout",
     "output_type": "stream",
     "text": [
      "[13, 22, 29, 37, 46, 49, 52, 56, 71]\n"
     ]
    }
   ],
   "source": [
    "sort_list=[29,13,22,37,52,49,46,71,56]\n",
    "def bubbleSort(nlist):\n",
    "    for l in range(len(nlist)):\n",
    "        for i in range(l):\n",
    "            if nlist[i]>nlist[i+1]:\n",
    "                hold = nlist[i]\n",
    "                nlist[i] = nlist[i+1]\n",
    "                nlist[i+1] = hold\n",
    "    return nlist\n",
    "print(bubbleSort(sort_list))"
   ]
  },
  {
   "cell_type": "markdown",
   "metadata": {},
   "source": [
    "## Question 4:"
   ]
  },
  {
   "cell_type": "code",
   "execution_count": 18,
   "metadata": {},
   "outputs": [
    {
     "name": "stdout",
     "output_type": "stream",
     "text": [
      "[13, 22, 29, 37, 46, 49, 52, 56, 71]\n"
     ]
    }
   ],
   "source": [
    "def mergeSort(myList):\n",
    "    if len(myList) > 1:\n",
    "        mid = len(myList) // 2\n",
    "        left = myList[:mid]\n",
    "        right = myList[mid:]\n",
    "\n",
    "        # Recursive call on each half\n",
    "        mergeSort(left)\n",
    "        mergeSort(right)\n",
    "\n",
    "        # Two iterators for traversing the two halves\n",
    "        i = 0\n",
    "        j = 0\n",
    "        \n",
    "        # Iterator for the main list\n",
    "        k = 0\n",
    "        \n",
    "        while i < len(left) and j < len(right):\n",
    "            if left[i] < right[j]:\n",
    "              # The value from the left half has been used\n",
    "              myList[k] = left[i]\n",
    "              # Move the iterator forward\n",
    "              i += 1\n",
    "            else:\n",
    "                myList[k] = right[j]\n",
    "                j += 1\n",
    "            # Move to the next slot\n",
    "            k += 1\n",
    "\n",
    "        # For all the remaining values\n",
    "        while i < len(left):\n",
    "            myList[k] = left[i]\n",
    "            i += 1\n",
    "            k += 1\n",
    "\n",
    "        while j < len(right):\n",
    "            myList[k]=right[j]\n",
    "            j += 1\n",
    "            k += 1\n",
    "\n",
    "myList = [29,13,22,37,52,49,46,71,56]\n",
    "mergeSort(myList)\n",
    "print(myList)"
   ]
  },
  {
   "cell_type": "markdown",
   "metadata": {},
   "source": [
    "## Question 5:"
   ]
  },
  {
   "cell_type": "code",
   "execution_count": 19,
   "metadata": {},
   "outputs": [
    {
     "name": "stdout",
     "output_type": "stream",
     "text": [
      "[13, 22, 29, 37, 46, 49, 52, 56, 71]\n"
     ]
    }
   ],
   "source": [
    "def partition(my_list, start, end):\n",
    "    pivot = my_list[start]\n",
    "    low = start + 1\n",
    "    high = end\n",
    "    while True:\n",
    "        while low <= high and my_list[high] >= pivot:\n",
    "            high = high - 1\n",
    "        while low <= high and my_list[low] <= pivot:\n",
    "            low = low + 1\n",
    "\n",
    "        if low <= high:\n",
    "            my_list[low], my_list[high] = my_list[high], my_list[low]\n",
    "        else:\n",
    "            break\n",
    "\n",
    "    my_list[start], my_list[high] = my_list[high], my_list[start]\n",
    "\n",
    "    return high\n",
    "def quick_sort(my_list, start, end):\n",
    "    if start >= end:\n",
    "        return\n",
    "\n",
    "    p = partition(my_list, start, end)\n",
    "    quick_sort(my_list, start, p-1)\n",
    "    quick_sort(my_list, p+1, end)\n",
    "\n",
    "my_list = [29,13,22,37,52,49,46,71,56]\n",
    "quick_sort(my_list, 0, len(my_list) - 1)\n",
    "print(my_list)"
   ]
  }
 ],
 "metadata": {
  "kernelspec": {
   "display_name": "Python 3.10.6 64-bit (windows store)",
   "language": "python",
   "name": "python3"
  },
  "language_info": {
   "codemirror_mode": {
    "name": "ipython",
    "version": 3
   },
   "file_extension": ".py",
   "mimetype": "text/x-python",
   "name": "python",
   "nbconvert_exporter": "python",
   "pygments_lexer": "ipython3",
   "version": "3.10.6"
  },
  "orig_nbformat": 4,
  "vscode": {
   "interpreter": {
    "hash": "b2c647202fd92a8243df08cbefe5e2fc491585904a9553be3beec1ce7c610a24"
   }
  }
 },
 "nbformat": 4,
 "nbformat_minor": 2
}
